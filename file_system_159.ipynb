{
 "cells": [
  {
   "cell_type": "code",
   "execution_count": 1,
   "metadata": {},
   "outputs": [],
   "source": [
    "import os"
   ]
  },
  {
   "cell_type": "code",
   "execution_count": null,
   "metadata": {},
   "outputs": [],
   "source": [
    "def disk_usage(path):\n",
    "    \"\"\" Return the number of bytes used by a file/folder and descendents. \"\"\"\n",
    "    total = os.path.getsize(path)                       # account for direct usage\n",
    "    if os.path.isdir(path):                             # if this is a directory\n",
    "        for filename in os.listdir(path):               # then for each child:\n",
    "            childpath = os.path.join(path, filename)    # compose full path to child\n",
    "            total += disk_usage(childpath)              # add child's usage to total\n",
    "    print(f\"{total:<7}   {path}\")\n",
    "    return total        "
   ]
  }
 ],
 "metadata": {
  "kernelspec": {
   "display_name": "base",
   "language": "python",
   "name": "python3"
  },
  "language_info": {
   "codemirror_mode": {
    "name": "ipython",
    "version": 3
   },
   "file_extension": ".py",
   "mimetype": "text/x-python",
   "name": "python",
   "nbconvert_exporter": "python",
   "pygments_lexer": "ipython3",
   "version": "3.9.12"
  },
  "orig_nbformat": 4
 },
 "nbformat": 4,
 "nbformat_minor": 2
}
