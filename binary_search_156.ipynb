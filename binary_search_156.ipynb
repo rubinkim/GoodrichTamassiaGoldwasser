{
 "cells": [
  {
   "cell_type": "code",
   "execution_count": 4,
   "metadata": {},
   "outputs": [
    {
     "name": "stdout",
     "output_type": "stream",
     "text": [
      "[2, 4, 5, 7, 8, 9, 12, 14, 17, 19, 22, 25, 27, 28, 28, 33, 37]\n"
     ]
    }
   ],
   "source": [
    "\"\"\" 37 14 2 12 9 7 8 5 4 33 28 17 22 19 25 27 28 \"\"\"\n",
    "data = list(map(int, input().split()))\n",
    "data.sort()\n",
    "print(data)"
   ]
  },
  {
   "cell_type": "code",
   "execution_count": 5,
   "metadata": {},
   "outputs": [],
   "source": [
    "def binary_search(data, target, low, high):\n",
    "    \"\"\" Return True if target is found in indicated portion of a Python list\n",
    "    The search only considers the portion from data[low] to data[high] inclusive.\n",
    "    \"\"\"\n",
    "    if low > high:    # interval is empty; no match\n",
    "        return False\n",
    "    else:\n",
    "        mid = (high + low) // 2  \n",
    "        if target == data[mid]:   # found a match\n",
    "            return True\n",
    "        elif target < data[mid]:  # recur on the portion left of the middle\n",
    "            return binary_search(data, target, low, mid-1)\n",
    "        else:                     # recur on the portion right of the middle\n",
    "            return binary_search(data, target, mid+1, high)\n",
    "    "
   ]
  },
  {
   "cell_type": "code",
   "execution_count": 6,
   "metadata": {},
   "outputs": [
    {
     "ename": "IndexError",
     "evalue": "list index out of range",
     "output_type": "error",
     "traceback": [
      "\u001b[1;31m---------------------------------------------------------------------------\u001b[0m",
      "\u001b[1;31mIndexError\u001b[0m                                Traceback (most recent call last)",
      "\u001b[1;32me:\\GoodrichTamassiaGoldwasser\\binary_search_156.ipynb Cell 3\u001b[0m line \u001b[0;36m<cell line: 1>\u001b[1;34m()\u001b[0m\n\u001b[1;32m----> <a href='vscode-notebook-cell:/e%3A/GoodrichTamassiaGoldwasser/binary_search_156.ipynb#W2sZmlsZQ%3D%3D?line=0'>1</a>\u001b[0m binary_search(data, \u001b[39m22\u001b[39;49m, \u001b[39m2\u001b[39;49m, \u001b[39m37\u001b[39;49m)\n",
      "\u001b[1;32me:\\GoodrichTamassiaGoldwasser\\binary_search_156.ipynb Cell 3\u001b[0m line \u001b[0;36mbinary_search\u001b[1;34m(data, target, low, high)\u001b[0m\n\u001b[0;32m      <a href='vscode-notebook-cell:/e%3A/GoodrichTamassiaGoldwasser/binary_search_156.ipynb#W2sZmlsZQ%3D%3D?line=6'>7</a>\u001b[0m \u001b[39melse\u001b[39;00m:\n\u001b[0;32m      <a href='vscode-notebook-cell:/e%3A/GoodrichTamassiaGoldwasser/binary_search_156.ipynb#W2sZmlsZQ%3D%3D?line=7'>8</a>\u001b[0m     mid \u001b[39m=\u001b[39m (high \u001b[39m+\u001b[39m low) \u001b[39m/\u001b[39m\u001b[39m/\u001b[39m \u001b[39m2\u001b[39m  \n\u001b[1;32m----> <a href='vscode-notebook-cell:/e%3A/GoodrichTamassiaGoldwasser/binary_search_156.ipynb#W2sZmlsZQ%3D%3D?line=8'>9</a>\u001b[0m     \u001b[39mif\u001b[39;00m target \u001b[39m==\u001b[39m data[mid]:   \u001b[39m# found a match\u001b[39;00m\n\u001b[0;32m     <a href='vscode-notebook-cell:/e%3A/GoodrichTamassiaGoldwasser/binary_search_156.ipynb#W2sZmlsZQ%3D%3D?line=9'>10</a>\u001b[0m         \u001b[39mreturn\u001b[39;00m \u001b[39mTrue\u001b[39;00m\n\u001b[0;32m     <a href='vscode-notebook-cell:/e%3A/GoodrichTamassiaGoldwasser/binary_search_156.ipynb#W2sZmlsZQ%3D%3D?line=10'>11</a>\u001b[0m     \u001b[39melif\u001b[39;00m target \u001b[39m<\u001b[39m data[mid]:  \u001b[39m# recur on the portion left of the middle\u001b[39;00m\n",
      "\u001b[1;31mIndexError\u001b[0m: list index out of range"
     ]
    }
   ],
   "source": [
    "binary_search(data, 22, 2, 37)"
   ]
  }
 ],
 "metadata": {
  "kernelspec": {
   "display_name": "base",
   "language": "python",
   "name": "python3"
  },
  "language_info": {
   "codemirror_mode": {
    "name": "ipython",
    "version": 3
   },
   "file_extension": ".py",
   "mimetype": "text/x-python",
   "name": "python",
   "nbconvert_exporter": "python",
   "pygments_lexer": "ipython3",
   "version": "3.9.12"
  },
  "orig_nbformat": 4
 },
 "nbformat": 4,
 "nbformat_minor": 2
}
