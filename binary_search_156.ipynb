{
 "cells": [
  {
   "cell_type": "code",
   "execution_count": 1,
   "metadata": {},
   "outputs": [
    {
     "name": "stdout",
     "output_type": "stream",
     "text": [
      "[2, 4, 5, 7, 8, 9, 12, 14, 17, 19, 22, 25, 27, 28, 28, 33, 37]\n"
     ]
    }
   ],
   "source": [
    "\"\"\" 37 14 2 12 9 7 8 5 4 33 28 17 22 19 25 27 28 \"\"\"\n",
    "data = list(map(int, input().split()))\n",
    "data.sort()\n",
    "print(data)"
   ]
  },
  {
   "cell_type": "code",
   "execution_count": 2,
   "metadata": {},
   "outputs": [],
   "source": [
    "def binary_search(data, target, low, high):\n",
    "    \"\"\" Return True if target is found in indicated portion of a Python list\n",
    "    The search only considers the portion from data[low] to data[high] inclusive.\n",
    "    \"\"\"\n",
    "    if low > high:    # interval is empty; no match\n",
    "        return False\n",
    "    else:\n",
    "        mid = (high + low) // 2  \n",
    "        if target == data[mid]:   # found a match\n",
    "            return True\n",
    "        elif target < data[mid]:  # recur on the portion left of the middle\n",
    "            return binary_search(data, target, low, mid-1)\n",
    "        else:                     # recur on the portion right of the middle\n",
    "            return binary_search(data, target, mid+1, high)\n",
    "    "
   ]
  },
  {
   "cell_type": "code",
   "execution_count": 3,
   "metadata": {},
   "outputs": [
    {
     "data": {
      "text/plain": [
       "True"
      ]
     },
     "execution_count": 3,
     "metadata": {},
     "output_type": "execute_result"
    }
   ],
   "source": [
    "binary_search(data, 22, 0, 15)"
   ]
  }
 ],
 "metadata": {
  "kernelspec": {
   "display_name": "base",
   "language": "python",
   "name": "python3"
  },
  "language_info": {
   "codemirror_mode": {
    "name": "ipython",
    "version": 3
   },
   "file_extension": ".py",
   "mimetype": "text/x-python",
   "name": "python",
   "nbconvert_exporter": "python",
   "pygments_lexer": "ipython3",
   "version": "3.9.12"
  },
  "orig_nbformat": 4
 },
 "nbformat": 4,
 "nbformat_minor": 2
}
