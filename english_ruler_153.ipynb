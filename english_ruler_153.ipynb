{
 "cells": [
  {
   "cell_type": "code",
   "execution_count": 1,
   "metadata": {},
   "outputs": [],
   "source": [
    "def draw_line(tick_length, tick_label=''):\n",
    "    \"\"\"Draw one line with given tick length(followed by optional label).\"\"\"\n",
    "    line = \"-\" * tick_length\n",
    "    if tick_label:\n",
    "        line += \" \" + tick_label\n",
    "    print(line)"
   ]
  },
  {
   "cell_type": "code",
   "execution_count": 2,
   "metadata": {},
   "outputs": [],
   "source": [
    "def draw_interval(central_length):\n",
    "    \"\"\"Draw tick interval based upon a central length.\"\"\"\n",
    "    if central_length > 0:                   # stop when length drops to 0\n",
    "        draw_interval(central_length - 1)    # recursively draw top ticks\n",
    "        draw_line(central_length - 1)        # draw center tick\n",
    "        draw_interval(central_length - 1)    # recursively draw bottom ticks    "
   ]
  },
  {
   "cell_type": "code",
   "execution_count": 3,
   "metadata": {},
   "outputs": [],
   "source": [
    "def draw_ruler(num_inches, major_length):\n",
    "    \"\"\"Draw English ruler with given number of inches, major tick length.\"\"\"\n",
    "    draw_line(major_length, \"0\")\n",
    "    for j in range(1, num_inches+1):\n",
    "        draw_interval(major_length - 1)\n",
    "        draw_line(major_length, str(j))"
   ]
  },
  {
   "cell_type": "code",
   "execution_count": 6,
   "metadata": {},
   "outputs": [
    {
     "name": "stdout",
     "output_type": "stream",
     "text": [
      "--- 0\n",
      "\n",
      "-\n",
      "\n",
      "--- 1\n",
      "\n",
      "-\n",
      "\n",
      "--- 2\n",
      "\n",
      "-\n",
      "\n",
      "--- 3\n",
      "\n",
      "-\n",
      "\n",
      "--- 4\n",
      "\n",
      "-\n",
      "\n",
      "--- 5\n"
     ]
    }
   ],
   "source": [
    "draw_ruler(5, 3)"
   ]
  },
  {
   "cell_type": "code",
   "execution_count": 1,
   "metadata": {},
   "outputs": [
    {
     "data": {
      "text/plain": [
       "218870"
      ]
     },
     "execution_count": 1,
     "metadata": {},
     "output_type": "execute_result"
    }
   ],
   "source": [
    "8000 + 83380 + 75160 + 40000 + 12330"
   ]
  }
 ],
 "metadata": {
  "kernelspec": {
   "display_name": "base",
   "language": "python",
   "name": "python3"
  },
  "language_info": {
   "codemirror_mode": {
    "name": "ipython",
    "version": 3
   },
   "file_extension": ".py",
   "mimetype": "text/x-python",
   "name": "python",
   "nbconvert_exporter": "python",
   "pygments_lexer": "ipython3",
   "version": "3.9.12"
  },
  "orig_nbformat": 4
 },
 "nbformat": 4,
 "nbformat_minor": 2
}
