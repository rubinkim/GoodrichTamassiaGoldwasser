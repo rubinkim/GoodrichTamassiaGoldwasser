{
 "cells": [
  {
   "cell_type": "code",
   "execution_count": 1,
   "metadata": {},
   "outputs": [],
   "source": [
    "\"\"\"Using top down DP & memoization\"\"\"\n",
    "\"\"\"fibonacci(1000)까지만 해보자\"\"\"\n",
    "cache = [0] * 1000\n",
    "\n",
    "def fibonacci_old(n):\n",
    "    cache[0], cache[1] = 0, 1\n",
    "    \n",
    "    if n >= 3:\n",
    "        cache[n] = fibonacci_old(n-1) + fibonacci_old(n-2)       \n",
    "    \n",
    "    return cache[n]"
   ]
  },
  {
   "cell_type": "code",
   "execution_count": 21,
   "metadata": {},
   "outputs": [],
   "source": [
    "cache = [0] * 1000\n",
    "\n",
    "def fibonacci(n):\n",
    "    cache[0], cache[1] = 0, 1    \n",
    "    \n",
    "    if n >= 2 and not cache[n]:\n",
    "        cache[n] = fibonacci(n-1) + fibonacci(n-2)\n",
    "    return cache[n]"
   ]
  },
  {
   "cell_type": "code",
   "execution_count": 5,
   "metadata": {},
   "outputs": [
    {
     "data": {
      "text/plain": [
       "12586269025"
      ]
     },
     "execution_count": 5,
     "metadata": {},
     "output_type": "execute_result"
    }
   ],
   "source": [
    "fibonacci_old(50)  # 79m 8.2s"
   ]
  },
  {
   "cell_type": "code",
   "execution_count": 24,
   "metadata": {},
   "outputs": [
    {
     "data": {
      "text/plain": [
       "354224848179261915075"
      ]
     },
     "execution_count": 24,
     "metadata": {},
     "output_type": "execute_result"
    }
   ],
   "source": [
    "fibonacci(100)"
   ]
  },
  {
   "cell_type": "code",
   "execution_count": 31,
   "metadata": {},
   "outputs": [
    {
     "data": {
      "text/plain": [
       "354224848179261915075"
      ]
     },
     "execution_count": 31,
     "metadata": {},
     "output_type": "execute_result"
    }
   ],
   "source": [
    "\"\"\"Using bottom up DP & tabulation\"\"\"\n",
    "cache = [0] * 1000\n",
    "\n",
    "cache[0], cache[1] = 0, 1\n",
    "\n",
    "for i in range(2, 1000):\n",
    "    cache[i] = cache[i-1] + cache[i-2]\n",
    "    \n",
    "cache[100]"
   ]
  }
 ],
 "metadata": {
  "kernelspec": {
   "display_name": "base",
   "language": "python",
   "name": "python3"
  },
  "language_info": {
   "codemirror_mode": {
    "name": "ipython",
    "version": 3
   },
   "file_extension": ".py",
   "mimetype": "text/x-python",
   "name": "python",
   "nbconvert_exporter": "python",
   "pygments_lexer": "ipython3",
   "version": "3.9.12"
  },
  "orig_nbformat": 4
 },
 "nbformat": 4,
 "nbformat_minor": 2
}
